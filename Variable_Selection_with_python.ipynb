{
  "nbformat": 4,
  "nbformat_minor": 0,
  "metadata": {
    "colab": {
      "name": "Variable Selection with python",
      "provenance": [],
      "collapsed_sections": [],
      "mount_file_id": "1aNlm7c7huqCTeMC3h7ExTnW-gYXqWTKI",
      "authorship_tag": "ABX9TyMxMWKdMbRtj2IZthEJCilV"
    },
    "kernelspec": {
      "name": "python3",
      "display_name": "Python 3"
    },
    "language_info": {
      "name": "python"
    }
  },
  "cells": [
    {
      "cell_type": "markdown",
      "metadata": {
        "id": "5F-1raNUw-XD"
      },
      "source": [
        "(URL) https://zephyrus1111.tistory.com/65"
      ]
    },
    {
      "cell_type": "markdown",
      "metadata": {
        "id": "-pZRUyFUQeT1"
      },
      "source": [
        "#### Variable Selection with python\n",
        "\n",
        "* 전진 선택법 (Forward Selection)\n",
        "\n",
        "* 후진 소거법 (Backward Elimination)\n",
        "\n",
        "* 단계별 선택법 (Forward Stepwise Selection)"
      ]
    },
    {
      "cell_type": "code",
      "metadata": {
        "id": "CUBhaAxNPNz2",
        "colab": {
          "base_uri": "https://localhost:8080/"
        },
        "outputId": "5fb92163-e712-4dce-e81e-e1e359379508"
      },
      "source": [
        "import pandas as pd\n",
        "import statsmodels.api as sm\n",
        "import matplotlib.pyplot as plt\n",
        " \n",
        "df = pd.read_csv('/content/drive/MyDrive/Colab Notebooks/surgical_unit.csv') ## 데이터 불러오기"
      ],
      "execution_count": null,
      "outputs": [
        {
          "output_type": "stream",
          "text": [
            "/usr/local/lib/python3.7/dist-packages/statsmodels/tools/_testing.py:19: FutureWarning: pandas.util.testing is deprecated. Use the functions in the public API at pandas.testing instead.\n",
            "  import pandas.util.testing as tm\n"
          ],
          "name": "stderr"
        }
      ]
    },
    {
      "cell_type": "code",
      "metadata": {
        "colab": {
          "base_uri": "https://localhost:8080/"
        },
        "id": "e6b1u1NOQNqU",
        "outputId": "09f776a2-28b5-45bb-f572-597d438da53d"
      },
      "source": [
        "df.info()"
      ],
      "execution_count": null,
      "outputs": [
        {
          "output_type": "stream",
          "text": [
            "<class 'pandas.core.frame.DataFrame'>\n",
            "RangeIndex: 54 entries, 0 to 53\n",
            "Data columns (total 10 columns):\n",
            " #   Column                Non-Null Count  Dtype  \n",
            "---  ------                --------------  -----  \n",
            " 0   Blood_Clotting_Score  54 non-null     float64\n",
            " 1   Prognostic_Index      54 non-null     int64  \n",
            " 2   Enzyme_Test           54 non-null     int64  \n",
            " 3   Liver_Test            54 non-null     float64\n",
            " 4   Age                   54 non-null     int64  \n",
            " 5   Gender                54 non-null     int64  \n",
            " 6   Alc_Mod               54 non-null     int64  \n",
            " 7   Alc_Heavy             54 non-null     int64  \n",
            " 8   Survival_Time         54 non-null     int64  \n",
            " 9   Log_ST                54 non-null     float64\n",
            "dtypes: float64(3), int64(7)\n",
            "memory usage: 4.3 KB\n"
          ],
          "name": "stdout"
        }
      ]
    },
    {
      "cell_type": "code",
      "metadata": {
        "colab": {
          "base_uri": "https://localhost:8080/"
        },
        "id": "6eQWkNA7QORk",
        "outputId": "89bfa94b-1e62-4353-e946-7e9874bd4611"
      },
      "source": [
        "df.shape"
      ],
      "execution_count": null,
      "outputs": [
        {
          "output_type": "execute_result",
          "data": {
            "text/plain": [
              "(54, 10)"
            ]
          },
          "metadata": {
            "tags": []
          },
          "execution_count": 4
        }
      ]
    },
    {
      "cell_type": "code",
      "metadata": {
        "colab": {
          "base_uri": "https://localhost:8080/",
          "height": 379
        },
        "id": "0hNlI1KaQaFp",
        "outputId": "ad8ae273-f32e-444f-e2b9-f17116e7a632"
      },
      "source": [
        "df.sample(10)"
      ],
      "execution_count": null,
      "outputs": [
        {
          "output_type": "execute_result",
          "data": {
            "text/html": [
              "<div>\n",
              "<style scoped>\n",
              "    .dataframe tbody tr th:only-of-type {\n",
              "        vertical-align: middle;\n",
              "    }\n",
              "\n",
              "    .dataframe tbody tr th {\n",
              "        vertical-align: top;\n",
              "    }\n",
              "\n",
              "    .dataframe thead th {\n",
              "        text-align: right;\n",
              "    }\n",
              "</style>\n",
              "<table border=\"1\" class=\"dataframe\">\n",
              "  <thead>\n",
              "    <tr style=\"text-align: right;\">\n",
              "      <th></th>\n",
              "      <th>Blood_Clotting_Score</th>\n",
              "      <th>Prognostic_Index</th>\n",
              "      <th>Enzyme_Test</th>\n",
              "      <th>Liver_Test</th>\n",
              "      <th>Age</th>\n",
              "      <th>Gender</th>\n",
              "      <th>Alc_Mod</th>\n",
              "      <th>Alc_Heavy</th>\n",
              "      <th>Survival_Time</th>\n",
              "      <th>Log_ST</th>\n",
              "    </tr>\n",
              "  </thead>\n",
              "  <tbody>\n",
              "    <tr>\n",
              "      <th>50</th>\n",
              "      <td>6.6</td>\n",
              "      <td>77</td>\n",
              "      <td>46</td>\n",
              "      <td>1.95</td>\n",
              "      <td>50</td>\n",
              "      <td>0</td>\n",
              "      <td>1</td>\n",
              "      <td>0</td>\n",
              "      <td>405</td>\n",
              "      <td>6.005</td>\n",
              "    </tr>\n",
              "    <tr>\n",
              "      <th>27</th>\n",
              "      <td>11.2</td>\n",
              "      <td>76</td>\n",
              "      <td>90</td>\n",
              "      <td>5.59</td>\n",
              "      <td>58</td>\n",
              "      <td>1</td>\n",
              "      <td>0</td>\n",
              "      <td>1</td>\n",
              "      <td>1965</td>\n",
              "      <td>7.583</td>\n",
              "    </tr>\n",
              "    <tr>\n",
              "      <th>43</th>\n",
              "      <td>6.5</td>\n",
              "      <td>56</td>\n",
              "      <td>77</td>\n",
              "      <td>2.85</td>\n",
              "      <td>41</td>\n",
              "      <td>0</td>\n",
              "      <td>1</td>\n",
              "      <td>0</td>\n",
              "      <td>538</td>\n",
              "      <td>6.288</td>\n",
              "    </tr>\n",
              "    <tr>\n",
              "      <th>44</th>\n",
              "      <td>3.4</td>\n",
              "      <td>77</td>\n",
              "      <td>93</td>\n",
              "      <td>1.48</td>\n",
              "      <td>69</td>\n",
              "      <td>0</td>\n",
              "      <td>1</td>\n",
              "      <td>0</td>\n",
              "      <td>482</td>\n",
              "      <td>6.178</td>\n",
              "    </tr>\n",
              "    <tr>\n",
              "      <th>29</th>\n",
              "      <td>5.8</td>\n",
              "      <td>76</td>\n",
              "      <td>59</td>\n",
              "      <td>2.58</td>\n",
              "      <td>61</td>\n",
              "      <td>1</td>\n",
              "      <td>1</td>\n",
              "      <td>0</td>\n",
              "      <td>600</td>\n",
              "      <td>6.396</td>\n",
              "    </tr>\n",
              "    <tr>\n",
              "      <th>8</th>\n",
              "      <td>6.0</td>\n",
              "      <td>67</td>\n",
              "      <td>93</td>\n",
              "      <td>2.50</td>\n",
              "      <td>58</td>\n",
              "      <td>0</td>\n",
              "      <td>1</td>\n",
              "      <td>0</td>\n",
              "      <td>1056</td>\n",
              "      <td>6.962</td>\n",
              "    </tr>\n",
              "    <tr>\n",
              "      <th>39</th>\n",
              "      <td>5.4</td>\n",
              "      <td>52</td>\n",
              "      <td>88</td>\n",
              "      <td>1.81</td>\n",
              "      <td>40</td>\n",
              "      <td>1</td>\n",
              "      <td>0</td>\n",
              "      <td>0</td>\n",
              "      <td>705</td>\n",
              "      <td>6.558</td>\n",
              "    </tr>\n",
              "    <tr>\n",
              "      <th>33</th>\n",
              "      <td>5.8</td>\n",
              "      <td>72</td>\n",
              "      <td>93</td>\n",
              "      <td>3.30</td>\n",
              "      <td>39</td>\n",
              "      <td>1</td>\n",
              "      <td>0</td>\n",
              "      <td>1</td>\n",
              "      <td>1037</td>\n",
              "      <td>6.944</td>\n",
              "    </tr>\n",
              "    <tr>\n",
              "      <th>15</th>\n",
              "      <td>7.4</td>\n",
              "      <td>74</td>\n",
              "      <td>68</td>\n",
              "      <td>2.40</td>\n",
              "      <td>64</td>\n",
              "      <td>1</td>\n",
              "      <td>1</td>\n",
              "      <td>0</td>\n",
              "      <td>809</td>\n",
              "      <td>6.695</td>\n",
              "    </tr>\n",
              "    <tr>\n",
              "      <th>9</th>\n",
              "      <td>3.7</td>\n",
              "      <td>76</td>\n",
              "      <td>94</td>\n",
              "      <td>2.40</td>\n",
              "      <td>48</td>\n",
              "      <td>0</td>\n",
              "      <td>1</td>\n",
              "      <td>0</td>\n",
              "      <td>968</td>\n",
              "      <td>6.875</td>\n",
              "    </tr>\n",
              "  </tbody>\n",
              "</table>\n",
              "</div>"
            ],
            "text/plain": [
              "    Blood_Clotting_Score  Prognostic_Index  ...  Survival_Time  Log_ST\n",
              "50                   6.6                77  ...            405   6.005\n",
              "27                  11.2                76  ...           1965   7.583\n",
              "43                   6.5                56  ...            538   6.288\n",
              "44                   3.4                77  ...            482   6.178\n",
              "29                   5.8                76  ...            600   6.396\n",
              "8                    6.0                67  ...           1056   6.962\n",
              "39                   5.4                52  ...            705   6.558\n",
              "33                   5.8                72  ...           1037   6.944\n",
              "15                   7.4                74  ...            809   6.695\n",
              "9                    3.7                76  ...            968   6.875\n",
              "\n",
              "[10 rows x 10 columns]"
            ]
          },
          "metadata": {
            "tags": []
          },
          "execution_count": 5
        }
      ]
    },
    {
      "cell_type": "code",
      "metadata": {
        "id": "New9OqrXQaoT"
      },
      "source": [
        "## 전진 선택법\n",
        "variables = df.columns[:-2].tolist() ## 설명 변수 리스트\n",
        " \n",
        "y = df['Survival_Time'] ## 반응 변수\n",
        "selected_variables = [] ## 선택된 변수들\n",
        "sl_enter = 0.05\n",
        " \n",
        "sv_per_step = [] ## 각 스텝별로 선택된 변수들\n",
        "adjusted_r_squared = [] ## 각 스텝별 수정된 결정계수\n",
        "steps = [] ## 스텝\n",
        "step = 0\n",
        "while len(variables) > 0:\n",
        "    remainder = list(set(variables) - set(selected_variables))\n",
        "    pval = pd.Series(index=remainder) ## 변수의 p-value\n",
        "    ## 기존에 포함된 변수와 새로운 변수 하나씩 돌아가면서 \n",
        "    ## 선형 모형을 적합한다.\n",
        "    for col in remainder: \n",
        "        X = df[selected_variables+[col]]\n",
        "        X = sm.add_constant(X)\n",
        "        model = sm.OLS(y,X).fit()\n",
        "        pval[col] = model.pvalues[col]\n",
        " \n",
        "    min_pval = pval.min()\n",
        "    if min_pval < sl_enter: ## 최소 p-value 값이 기준 값보다 작으면 포함\n",
        "        selected_variables.append(pval.idxmin())\n",
        "        \n",
        "        step += 1\n",
        "        steps.append(step)\n",
        "        adj_r_squared = sm.OLS(y,sm.add_constant(df[selected_variables])).fit().rsquared_adj\n",
        "        adjusted_r_squared.append(adj_r_squared)\n",
        "        sv_per_step.append(selected_variables.copy())\n",
        "    else:\n",
        "        break"
      ],
      "execution_count": null,
      "outputs": []
    },
    {
      "cell_type": "code",
      "metadata": {
        "id": "tY57_MKSVZBT"
      },
      "source": [
        "selected_variables"
      ],
      "execution_count": null,
      "outputs": []
    },
    {
      "cell_type": "code",
      "metadata": {
        "id": "x3qX8bb4Vdt9"
      },
      "source": [
        "fig = plt.figure(figsize=(10,10))\n",
        "fig.set_facecolor('white')\n",
        " \n",
        "font_size = 15\n",
        "plt.xticks(steps,[f'step {s}\\n'+'\\n'.join(sv_per_step[i]) for i,s in enumerate(steps)], fontsize=12)\n",
        "plt.plot(steps,adjusted_r_squared, marker='o')\n",
        "    \n",
        "plt.ylabel('Adjusted R Squared',fontsize=font_size)\n",
        "plt.grid(True)\n",
        "plt.show()"
      ],
      "execution_count": null,
      "outputs": []
    },
    {
      "cell_type": "code",
      "metadata": {
        "id": "PBBNFKTcVghu"
      },
      "source": [
        "## 후진 소거법\n",
        "variables = df.columns[:-2].tolist() ## 설명 변수 리스트\n",
        " \n",
        "y = df['Survival_Time'] ## 반응 변수\n",
        "selected_variables = variables ## 초기에는 모든 변수가 선택된 상태\n",
        "sl_remove = 0.05\n",
        " \n",
        "sv_per_step = [] ## 각 스텝별로 선택된 변수들\n",
        "adjusted_r_squared = [] ## 각 스텝별 수정된 결정계수\n",
        "steps = [] ## 스텝\n",
        "step = 0\n",
        "while len(selected_variables) > 0:\n",
        "    X = sm.add_constant(df[selected_variables])\n",
        "    p_vals = sm.OLS(y,X).fit().pvalues[1:] ## 절편항의 p-value는 뺀다\n",
        "    max_pval = p_vals.max() ## 최대 p-value\n",
        "    if max_pval >= sl_remove: ## 최대 p-value값이 기준값보다 크거나 같으면 제외\n",
        "        remove_variable = p_vals.idxmax()\n",
        "        selected_variables.remove(remove_variable)\n",
        " \n",
        "        step += 1\n",
        "        steps.append(step)\n",
        "        adj_r_squared = sm.OLS(y,sm.add_constant(df[selected_variables])).fit().rsquared_adj\n",
        "        adjusted_r_squared.append(adj_r_squared)\n",
        "        sv_per_step.append(selected_variables.copy())\n",
        "    else:\n",
        "        break"
      ],
      "execution_count": null,
      "outputs": []
    },
    {
      "cell_type": "code",
      "metadata": {
        "id": "QXtSTyvnVgcX"
      },
      "source": [
        "selected_variables"
      ],
      "execution_count": null,
      "outputs": []
    },
    {
      "cell_type": "code",
      "metadata": {
        "id": "rb0Rg2r_VgWJ"
      },
      "source": [
        ""
      ],
      "execution_count": null,
      "outputs": []
    },
    {
      "cell_type": "code",
      "metadata": {
        "id": "2RFpqNGJVgPn"
      },
      "source": [
        ""
      ],
      "execution_count": null,
      "outputs": []
    },
    {
      "cell_type": "code",
      "metadata": {
        "id": "avWEGYH4VgGj"
      },
      "source": [
        ""
      ],
      "execution_count": null,
      "outputs": []
    }
  ]
}